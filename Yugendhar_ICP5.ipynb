{
  "nbformat": 4,
  "nbformat_minor": 0,
  "metadata": {
    "colab": {
      "provenance": []
    },
    "kernelspec": {
      "name": "python3",
      "display_name": "Python 3"
    },
    "language_info": {
      "name": "python"
    }
  },
  "cells": [
    {
      "cell_type": "code",
      "source": [
        "import pandas as pd"
      ],
      "metadata": {
        "id": "DApA2rFl5iEB"
      },
      "execution_count": 154,
      "outputs": []
    },
    {
      "cell_type": "code",
      "execution_count": 155,
      "metadata": {
        "id": "wBq1tPRY5Ffe"
      },
      "outputs": [],
      "source": [
        "url = 'https://raw.githubusercontent.com/JuliaData/CSV.jl/refs/heads/main/test/testfiles/Sacramentorealestatetransactions.csv'\n",
        "df = pd.read_csv(url)"
      ]
    },
    {
      "cell_type": "code",
      "source": [
        "df"
      ],
      "metadata": {
        "colab": {
          "base_uri": "https://localhost:8080/",
          "height": 423
        },
        "id": "m-nipjLF5rjW",
        "outputId": "d70e82da-9e6a-476e-ca89-e24cd730514d"
      },
      "execution_count": 156,
      "outputs": [
        {
          "output_type": "execute_result",
          "data": {
            "text/plain": [
              "                  street             city    zip state  beds  baths  sq__ft  \\\n",
              "0           3526 HIGH ST       SACRAMENTO  95838    CA     2      1     836   \n",
              "1            51 OMAHA CT       SACRAMENTO  95823    CA     3      1    1167   \n",
              "2         2796 BRANCH ST       SACRAMENTO  95815    CA     2      1     796   \n",
              "3       2805 JANETTE WAY       SACRAMENTO  95815    CA     2      1     852   \n",
              "4        6001 MCMAHON DR       SACRAMENTO  95824    CA     2      1     797   \n",
              "..                   ...              ...    ...   ...   ...    ...     ...   \n",
              "980   9169 GARLINGTON CT       SACRAMENTO  95829    CA     4      3    2280   \n",
              "981      6932 RUSKUT WAY       SACRAMENTO  95823    CA     3      2    1477   \n",
              "982    7933 DAFFODIL WAY   CITRUS HEIGHTS  95610    CA     3      2    1216   \n",
              "983     8304 RED FOX WAY        ELK GROVE  95758    CA     4      2    1685   \n",
              "984  3882 YELLOWSTONE LN  EL DORADO HILLS  95762    CA     3      2    1362   \n",
              "\n",
              "            type                     sale_date   price   latitude   longitude  \n",
              "0    Residential  Wed May 21 00:00:00 EDT 2008   59222  38.631913 -121.434879  \n",
              "1    Residential  Wed May 21 00:00:00 EDT 2008   68212  38.478902 -121.431028  \n",
              "2    Residential  Wed May 21 00:00:00 EDT 2008   68880  38.618305 -121.443839  \n",
              "3    Residential  Wed May 21 00:00:00 EDT 2008   69307  38.616835 -121.439146  \n",
              "4    Residential  Wed May 21 00:00:00 EDT 2008   81900  38.519470 -121.435768  \n",
              "..           ...                           ...     ...        ...         ...  \n",
              "980  Residential  Thu May 15 00:00:00 EDT 2008  232425  38.457679 -121.359620  \n",
              "981  Residential  Thu May 15 00:00:00 EDT 2008  234000  38.499893 -121.458890  \n",
              "982  Residential  Thu May 15 00:00:00 EDT 2008  235000  38.708824 -121.256803  \n",
              "983  Residential  Thu May 15 00:00:00 EDT 2008  235301  38.417000 -121.397424  \n",
              "984  Residential  Thu May 15 00:00:00 EDT 2008  235738  38.655245 -121.075915  \n",
              "\n",
              "[985 rows x 12 columns]"
            ],
            "text/html": [
              "\n",
              "  <div id=\"df-533a4079-fe4c-4bab-a6f2-670d6523f041\" class=\"colab-df-container\">\n",
              "    <div>\n",
              "<style scoped>\n",
              "    .dataframe tbody tr th:only-of-type {\n",
              "        vertical-align: middle;\n",
              "    }\n",
              "\n",
              "    .dataframe tbody tr th {\n",
              "        vertical-align: top;\n",
              "    }\n",
              "\n",
              "    .dataframe thead th {\n",
              "        text-align: right;\n",
              "    }\n",
              "</style>\n",
              "<table border=\"1\" class=\"dataframe\">\n",
              "  <thead>\n",
              "    <tr style=\"text-align: right;\">\n",
              "      <th></th>\n",
              "      <th>street</th>\n",
              "      <th>city</th>\n",
              "      <th>zip</th>\n",
              "      <th>state</th>\n",
              "      <th>beds</th>\n",
              "      <th>baths</th>\n",
              "      <th>sq__ft</th>\n",
              "      <th>type</th>\n",
              "      <th>sale_date</th>\n",
              "      <th>price</th>\n",
              "      <th>latitude</th>\n",
              "      <th>longitude</th>\n",
              "    </tr>\n",
              "  </thead>\n",
              "  <tbody>\n",
              "    <tr>\n",
              "      <th>0</th>\n",
              "      <td>3526 HIGH ST</td>\n",
              "      <td>SACRAMENTO</td>\n",
              "      <td>95838</td>\n",
              "      <td>CA</td>\n",
              "      <td>2</td>\n",
              "      <td>1</td>\n",
              "      <td>836</td>\n",
              "      <td>Residential</td>\n",
              "      <td>Wed May 21 00:00:00 EDT 2008</td>\n",
              "      <td>59222</td>\n",
              "      <td>38.631913</td>\n",
              "      <td>-121.434879</td>\n",
              "    </tr>\n",
              "    <tr>\n",
              "      <th>1</th>\n",
              "      <td>51 OMAHA CT</td>\n",
              "      <td>SACRAMENTO</td>\n",
              "      <td>95823</td>\n",
              "      <td>CA</td>\n",
              "      <td>3</td>\n",
              "      <td>1</td>\n",
              "      <td>1167</td>\n",
              "      <td>Residential</td>\n",
              "      <td>Wed May 21 00:00:00 EDT 2008</td>\n",
              "      <td>68212</td>\n",
              "      <td>38.478902</td>\n",
              "      <td>-121.431028</td>\n",
              "    </tr>\n",
              "    <tr>\n",
              "      <th>2</th>\n",
              "      <td>2796 BRANCH ST</td>\n",
              "      <td>SACRAMENTO</td>\n",
              "      <td>95815</td>\n",
              "      <td>CA</td>\n",
              "      <td>2</td>\n",
              "      <td>1</td>\n",
              "      <td>796</td>\n",
              "      <td>Residential</td>\n",
              "      <td>Wed May 21 00:00:00 EDT 2008</td>\n",
              "      <td>68880</td>\n",
              "      <td>38.618305</td>\n",
              "      <td>-121.443839</td>\n",
              "    </tr>\n",
              "    <tr>\n",
              "      <th>3</th>\n",
              "      <td>2805 JANETTE WAY</td>\n",
              "      <td>SACRAMENTO</td>\n",
              "      <td>95815</td>\n",
              "      <td>CA</td>\n",
              "      <td>2</td>\n",
              "      <td>1</td>\n",
              "      <td>852</td>\n",
              "      <td>Residential</td>\n",
              "      <td>Wed May 21 00:00:00 EDT 2008</td>\n",
              "      <td>69307</td>\n",
              "      <td>38.616835</td>\n",
              "      <td>-121.439146</td>\n",
              "    </tr>\n",
              "    <tr>\n",
              "      <th>4</th>\n",
              "      <td>6001 MCMAHON DR</td>\n",
              "      <td>SACRAMENTO</td>\n",
              "      <td>95824</td>\n",
              "      <td>CA</td>\n",
              "      <td>2</td>\n",
              "      <td>1</td>\n",
              "      <td>797</td>\n",
              "      <td>Residential</td>\n",
              "      <td>Wed May 21 00:00:00 EDT 2008</td>\n",
              "      <td>81900</td>\n",
              "      <td>38.519470</td>\n",
              "      <td>-121.435768</td>\n",
              "    </tr>\n",
              "    <tr>\n",
              "      <th>...</th>\n",
              "      <td>...</td>\n",
              "      <td>...</td>\n",
              "      <td>...</td>\n",
              "      <td>...</td>\n",
              "      <td>...</td>\n",
              "      <td>...</td>\n",
              "      <td>...</td>\n",
              "      <td>...</td>\n",
              "      <td>...</td>\n",
              "      <td>...</td>\n",
              "      <td>...</td>\n",
              "      <td>...</td>\n",
              "    </tr>\n",
              "    <tr>\n",
              "      <th>980</th>\n",
              "      <td>9169 GARLINGTON CT</td>\n",
              "      <td>SACRAMENTO</td>\n",
              "      <td>95829</td>\n",
              "      <td>CA</td>\n",
              "      <td>4</td>\n",
              "      <td>3</td>\n",
              "      <td>2280</td>\n",
              "      <td>Residential</td>\n",
              "      <td>Thu May 15 00:00:00 EDT 2008</td>\n",
              "      <td>232425</td>\n",
              "      <td>38.457679</td>\n",
              "      <td>-121.359620</td>\n",
              "    </tr>\n",
              "    <tr>\n",
              "      <th>981</th>\n",
              "      <td>6932 RUSKUT WAY</td>\n",
              "      <td>SACRAMENTO</td>\n",
              "      <td>95823</td>\n",
              "      <td>CA</td>\n",
              "      <td>3</td>\n",
              "      <td>2</td>\n",
              "      <td>1477</td>\n",
              "      <td>Residential</td>\n",
              "      <td>Thu May 15 00:00:00 EDT 2008</td>\n",
              "      <td>234000</td>\n",
              "      <td>38.499893</td>\n",
              "      <td>-121.458890</td>\n",
              "    </tr>\n",
              "    <tr>\n",
              "      <th>982</th>\n",
              "      <td>7933 DAFFODIL WAY</td>\n",
              "      <td>CITRUS HEIGHTS</td>\n",
              "      <td>95610</td>\n",
              "      <td>CA</td>\n",
              "      <td>3</td>\n",
              "      <td>2</td>\n",
              "      <td>1216</td>\n",
              "      <td>Residential</td>\n",
              "      <td>Thu May 15 00:00:00 EDT 2008</td>\n",
              "      <td>235000</td>\n",
              "      <td>38.708824</td>\n",
              "      <td>-121.256803</td>\n",
              "    </tr>\n",
              "    <tr>\n",
              "      <th>983</th>\n",
              "      <td>8304 RED FOX WAY</td>\n",
              "      <td>ELK GROVE</td>\n",
              "      <td>95758</td>\n",
              "      <td>CA</td>\n",
              "      <td>4</td>\n",
              "      <td>2</td>\n",
              "      <td>1685</td>\n",
              "      <td>Residential</td>\n",
              "      <td>Thu May 15 00:00:00 EDT 2008</td>\n",
              "      <td>235301</td>\n",
              "      <td>38.417000</td>\n",
              "      <td>-121.397424</td>\n",
              "    </tr>\n",
              "    <tr>\n",
              "      <th>984</th>\n",
              "      <td>3882 YELLOWSTONE LN</td>\n",
              "      <td>EL DORADO HILLS</td>\n",
              "      <td>95762</td>\n",
              "      <td>CA</td>\n",
              "      <td>3</td>\n",
              "      <td>2</td>\n",
              "      <td>1362</td>\n",
              "      <td>Residential</td>\n",
              "      <td>Thu May 15 00:00:00 EDT 2008</td>\n",
              "      <td>235738</td>\n",
              "      <td>38.655245</td>\n",
              "      <td>-121.075915</td>\n",
              "    </tr>\n",
              "  </tbody>\n",
              "</table>\n",
              "<p>985 rows × 12 columns</p>\n",
              "</div>\n",
              "    <div class=\"colab-df-buttons\">\n",
              "\n",
              "  <div class=\"colab-df-container\">\n",
              "    <button class=\"colab-df-convert\" onclick=\"convertToInteractive('df-533a4079-fe4c-4bab-a6f2-670d6523f041')\"\n",
              "            title=\"Convert this dataframe to an interactive table.\"\n",
              "            style=\"display:none;\">\n",
              "\n",
              "  <svg xmlns=\"http://www.w3.org/2000/svg\" height=\"24px\" viewBox=\"0 -960 960 960\">\n",
              "    <path d=\"M120-120v-720h720v720H120Zm60-500h600v-160H180v160Zm220 220h160v-160H400v160Zm0 220h160v-160H400v160ZM180-400h160v-160H180v160Zm440 0h160v-160H620v160ZM180-180h160v-160H180v160Zm440 0h160v-160H620v160Z\"/>\n",
              "  </svg>\n",
              "    </button>\n",
              "\n",
              "  <style>\n",
              "    .colab-df-container {\n",
              "      display:flex;\n",
              "      gap: 12px;\n",
              "    }\n",
              "\n",
              "    .colab-df-convert {\n",
              "      background-color: #E8F0FE;\n",
              "      border: none;\n",
              "      border-radius: 50%;\n",
              "      cursor: pointer;\n",
              "      display: none;\n",
              "      fill: #1967D2;\n",
              "      height: 32px;\n",
              "      padding: 0 0 0 0;\n",
              "      width: 32px;\n",
              "    }\n",
              "\n",
              "    .colab-df-convert:hover {\n",
              "      background-color: #E2EBFA;\n",
              "      box-shadow: 0px 1px 2px rgba(60, 64, 67, 0.3), 0px 1px 3px 1px rgba(60, 64, 67, 0.15);\n",
              "      fill: #174EA6;\n",
              "    }\n",
              "\n",
              "    .colab-df-buttons div {\n",
              "      margin-bottom: 4px;\n",
              "    }\n",
              "\n",
              "    [theme=dark] .colab-df-convert {\n",
              "      background-color: #3B4455;\n",
              "      fill: #D2E3FC;\n",
              "    }\n",
              "\n",
              "    [theme=dark] .colab-df-convert:hover {\n",
              "      background-color: #434B5C;\n",
              "      box-shadow: 0px 1px 3px 1px rgba(0, 0, 0, 0.15);\n",
              "      filter: drop-shadow(0px 1px 2px rgba(0, 0, 0, 0.3));\n",
              "      fill: #FFFFFF;\n",
              "    }\n",
              "  </style>\n",
              "\n",
              "    <script>\n",
              "      const buttonEl =\n",
              "        document.querySelector('#df-533a4079-fe4c-4bab-a6f2-670d6523f041 button.colab-df-convert');\n",
              "      buttonEl.style.display =\n",
              "        google.colab.kernel.accessAllowed ? 'block' : 'none';\n",
              "\n",
              "      async function convertToInteractive(key) {\n",
              "        const element = document.querySelector('#df-533a4079-fe4c-4bab-a6f2-670d6523f041');\n",
              "        const dataTable =\n",
              "          await google.colab.kernel.invokeFunction('convertToInteractive',\n",
              "                                                    [key], {});\n",
              "        if (!dataTable) return;\n",
              "\n",
              "        const docLinkHtml = 'Like what you see? Visit the ' +\n",
              "          '<a target=\"_blank\" href=https://colab.research.google.com/notebooks/data_table.ipynb>data table notebook</a>'\n",
              "          + ' to learn more about interactive tables.';\n",
              "        element.innerHTML = '';\n",
              "        dataTable['output_type'] = 'display_data';\n",
              "        await google.colab.output.renderOutput(dataTable, element);\n",
              "        const docLink = document.createElement('div');\n",
              "        docLink.innerHTML = docLinkHtml;\n",
              "        element.appendChild(docLink);\n",
              "      }\n",
              "    </script>\n",
              "  </div>\n",
              "\n",
              "\n",
              "<div id=\"df-26ccfcd8-3445-4d69-a1c8-f8771300d4c6\">\n",
              "  <button class=\"colab-df-quickchart\" onclick=\"quickchart('df-26ccfcd8-3445-4d69-a1c8-f8771300d4c6')\"\n",
              "            title=\"Suggest charts\"\n",
              "            style=\"display:none;\">\n",
              "\n",
              "<svg xmlns=\"http://www.w3.org/2000/svg\" height=\"24px\"viewBox=\"0 0 24 24\"\n",
              "     width=\"24px\">\n",
              "    <g>\n",
              "        <path d=\"M19 3H5c-1.1 0-2 .9-2 2v14c0 1.1.9 2 2 2h14c1.1 0 2-.9 2-2V5c0-1.1-.9-2-2-2zM9 17H7v-7h2v7zm4 0h-2V7h2v10zm4 0h-2v-4h2v4z\"/>\n",
              "    </g>\n",
              "</svg>\n",
              "  </button>\n",
              "\n",
              "<style>\n",
              "  .colab-df-quickchart {\n",
              "      --bg-color: #E8F0FE;\n",
              "      --fill-color: #1967D2;\n",
              "      --hover-bg-color: #E2EBFA;\n",
              "      --hover-fill-color: #174EA6;\n",
              "      --disabled-fill-color: #AAA;\n",
              "      --disabled-bg-color: #DDD;\n",
              "  }\n",
              "\n",
              "  [theme=dark] .colab-df-quickchart {\n",
              "      --bg-color: #3B4455;\n",
              "      --fill-color: #D2E3FC;\n",
              "      --hover-bg-color: #434B5C;\n",
              "      --hover-fill-color: #FFFFFF;\n",
              "      --disabled-bg-color: #3B4455;\n",
              "      --disabled-fill-color: #666;\n",
              "  }\n",
              "\n",
              "  .colab-df-quickchart {\n",
              "    background-color: var(--bg-color);\n",
              "    border: none;\n",
              "    border-radius: 50%;\n",
              "    cursor: pointer;\n",
              "    display: none;\n",
              "    fill: var(--fill-color);\n",
              "    height: 32px;\n",
              "    padding: 0;\n",
              "    width: 32px;\n",
              "  }\n",
              "\n",
              "  .colab-df-quickchart:hover {\n",
              "    background-color: var(--hover-bg-color);\n",
              "    box-shadow: 0 1px 2px rgba(60, 64, 67, 0.3), 0 1px 3px 1px rgba(60, 64, 67, 0.15);\n",
              "    fill: var(--button-hover-fill-color);\n",
              "  }\n",
              "\n",
              "  .colab-df-quickchart-complete:disabled,\n",
              "  .colab-df-quickchart-complete:disabled:hover {\n",
              "    background-color: var(--disabled-bg-color);\n",
              "    fill: var(--disabled-fill-color);\n",
              "    box-shadow: none;\n",
              "  }\n",
              "\n",
              "  .colab-df-spinner {\n",
              "    border: 2px solid var(--fill-color);\n",
              "    border-color: transparent;\n",
              "    border-bottom-color: var(--fill-color);\n",
              "    animation:\n",
              "      spin 1s steps(1) infinite;\n",
              "  }\n",
              "\n",
              "  @keyframes spin {\n",
              "    0% {\n",
              "      border-color: transparent;\n",
              "      border-bottom-color: var(--fill-color);\n",
              "      border-left-color: var(--fill-color);\n",
              "    }\n",
              "    20% {\n",
              "      border-color: transparent;\n",
              "      border-left-color: var(--fill-color);\n",
              "      border-top-color: var(--fill-color);\n",
              "    }\n",
              "    30% {\n",
              "      border-color: transparent;\n",
              "      border-left-color: var(--fill-color);\n",
              "      border-top-color: var(--fill-color);\n",
              "      border-right-color: var(--fill-color);\n",
              "    }\n",
              "    40% {\n",
              "      border-color: transparent;\n",
              "      border-right-color: var(--fill-color);\n",
              "      border-top-color: var(--fill-color);\n",
              "    }\n",
              "    60% {\n",
              "      border-color: transparent;\n",
              "      border-right-color: var(--fill-color);\n",
              "    }\n",
              "    80% {\n",
              "      border-color: transparent;\n",
              "      border-right-color: var(--fill-color);\n",
              "      border-bottom-color: var(--fill-color);\n",
              "    }\n",
              "    90% {\n",
              "      border-color: transparent;\n",
              "      border-bottom-color: var(--fill-color);\n",
              "    }\n",
              "  }\n",
              "</style>\n",
              "\n",
              "  <script>\n",
              "    async function quickchart(key) {\n",
              "      const quickchartButtonEl =\n",
              "        document.querySelector('#' + key + ' button');\n",
              "      quickchartButtonEl.disabled = true;  // To prevent multiple clicks.\n",
              "      quickchartButtonEl.classList.add('colab-df-spinner');\n",
              "      try {\n",
              "        const charts = await google.colab.kernel.invokeFunction(\n",
              "            'suggestCharts', [key], {});\n",
              "      } catch (error) {\n",
              "        console.error('Error during call to suggestCharts:', error);\n",
              "      }\n",
              "      quickchartButtonEl.classList.remove('colab-df-spinner');\n",
              "      quickchartButtonEl.classList.add('colab-df-quickchart-complete');\n",
              "    }\n",
              "    (() => {\n",
              "      let quickchartButtonEl =\n",
              "        document.querySelector('#df-26ccfcd8-3445-4d69-a1c8-f8771300d4c6 button');\n",
              "      quickchartButtonEl.style.display =\n",
              "        google.colab.kernel.accessAllowed ? 'block' : 'none';\n",
              "    })();\n",
              "  </script>\n",
              "</div>\n",
              "\n",
              "  <div id=\"id_7bcb7a87-f50b-404b-b2df-e2e583b22aed\">\n",
              "    <style>\n",
              "      .colab-df-generate {\n",
              "        background-color: #E8F0FE;\n",
              "        border: none;\n",
              "        border-radius: 50%;\n",
              "        cursor: pointer;\n",
              "        display: none;\n",
              "        fill: #1967D2;\n",
              "        height: 32px;\n",
              "        padding: 0 0 0 0;\n",
              "        width: 32px;\n",
              "      }\n",
              "\n",
              "      .colab-df-generate:hover {\n",
              "        background-color: #E2EBFA;\n",
              "        box-shadow: 0px 1px 2px rgba(60, 64, 67, 0.3), 0px 1px 3px 1px rgba(60, 64, 67, 0.15);\n",
              "        fill: #174EA6;\n",
              "      }\n",
              "\n",
              "      [theme=dark] .colab-df-generate {\n",
              "        background-color: #3B4455;\n",
              "        fill: #D2E3FC;\n",
              "      }\n",
              "\n",
              "      [theme=dark] .colab-df-generate:hover {\n",
              "        background-color: #434B5C;\n",
              "        box-shadow: 0px 1px 3px 1px rgba(0, 0, 0, 0.15);\n",
              "        filter: drop-shadow(0px 1px 2px rgba(0, 0, 0, 0.3));\n",
              "        fill: #FFFFFF;\n",
              "      }\n",
              "    </style>\n",
              "    <button class=\"colab-df-generate\" onclick=\"generateWithVariable('df')\"\n",
              "            title=\"Generate code using this dataframe.\"\n",
              "            style=\"display:none;\">\n",
              "\n",
              "  <svg xmlns=\"http://www.w3.org/2000/svg\" height=\"24px\"viewBox=\"0 0 24 24\"\n",
              "       width=\"24px\">\n",
              "    <path d=\"M7,19H8.4L18.45,9,17,7.55,7,17.6ZM5,21V16.75L18.45,3.32a2,2,0,0,1,2.83,0l1.4,1.43a1.91,1.91,0,0,1,.58,1.4,1.91,1.91,0,0,1-.58,1.4L9.25,21ZM18.45,9,17,7.55Zm-12,3A5.31,5.31,0,0,0,4.9,8.1,5.31,5.31,0,0,0,1,6.5,5.31,5.31,0,0,0,4.9,4.9,5.31,5.31,0,0,0,6.5,1,5.31,5.31,0,0,0,8.1,4.9,5.31,5.31,0,0,0,12,6.5,5.46,5.46,0,0,0,6.5,12Z\"/>\n",
              "  </svg>\n",
              "    </button>\n",
              "    <script>\n",
              "      (() => {\n",
              "      const buttonEl =\n",
              "        document.querySelector('#id_7bcb7a87-f50b-404b-b2df-e2e583b22aed button.colab-df-generate');\n",
              "      buttonEl.style.display =\n",
              "        google.colab.kernel.accessAllowed ? 'block' : 'none';\n",
              "\n",
              "      buttonEl.onclick = () => {\n",
              "        google.colab.notebook.generateWithVariable('df');\n",
              "      }\n",
              "      })();\n",
              "    </script>\n",
              "  </div>\n",
              "\n",
              "    </div>\n",
              "  </div>\n"
            ],
            "application/vnd.google.colaboratory.intrinsic+json": {
              "type": "dataframe",
              "variable_name": "df",
              "summary": "{\n  \"name\": \"df\",\n  \"rows\": 985,\n  \"fields\": [\n    {\n      \"column\": \"street\",\n      \"properties\": {\n        \"dtype\": \"string\",\n        \"num_unique_values\": 981,\n        \"samples\": [\n          \"4204 LUSK DR\",\n          \"4741 PACIFIC PARK DR\",\n          \"7837 ABBINGTON WAY\"\n        ],\n        \"semantic_type\": \"\",\n        \"description\": \"\"\n      }\n    },\n    {\n      \"column\": \"city\",\n      \"properties\": {\n        \"dtype\": \"category\",\n        \"num_unique_values\": 39,\n        \"samples\": [\n          \"SHINGLE SPRINGS\",\n          \"GARDEN VALLEY\",\n          \"NORTH HIGHLANDS\"\n        ],\n        \"semantic_type\": \"\",\n        \"description\": \"\"\n      }\n    },\n    {\n      \"column\": \"zip\",\n      \"properties\": {\n        \"dtype\": \"number\",\n        \"std\": 85,\n        \"min\": 95603,\n        \"max\": 95864,\n        \"num_unique_values\": 68,\n        \"samples\": [\n          95610,\n          95827,\n          95841\n        ],\n        \"semantic_type\": \"\",\n        \"description\": \"\"\n      }\n    },\n    {\n      \"column\": \"state\",\n      \"properties\": {\n        \"dtype\": \"category\",\n        \"num_unique_values\": 1,\n        \"samples\": [\n          \"CA\"\n        ],\n        \"semantic_type\": \"\",\n        \"description\": \"\"\n      }\n    },\n    {\n      \"column\": \"beds\",\n      \"properties\": {\n        \"dtype\": \"number\",\n        \"std\": 1,\n        \"min\": 0,\n        \"max\": 8,\n        \"num_unique_values\": 8,\n        \"samples\": [\n          3\n        ],\n        \"semantic_type\": \"\",\n        \"description\": \"\"\n      }\n    },\n    {\n      \"column\": \"baths\",\n      \"properties\": {\n        \"dtype\": \"number\",\n        \"std\": 0,\n        \"min\": 0,\n        \"max\": 5,\n        \"num_unique_values\": 6,\n        \"samples\": [\n          1\n        ],\n        \"semantic_type\": \"\",\n        \"description\": \"\"\n      }\n    },\n    {\n      \"column\": \"sq__ft\",\n      \"properties\": {\n        \"dtype\": \"number\",\n        \"std\": 853,\n        \"min\": 0,\n        \"max\": 5822,\n        \"num_unique_values\": 603,\n        \"samples\": [\n          2367\n        ],\n        \"semantic_type\": \"\",\n        \"description\": \"\"\n      }\n    },\n    {\n      \"column\": \"type\",\n      \"properties\": {\n        \"dtype\": \"category\",\n        \"num_unique_values\": 4,\n        \"samples\": [\n          \"Condo\"\n        ],\n        \"semantic_type\": \"\",\n        \"description\": \"\"\n      }\n    },\n    {\n      \"column\": \"sale_date\",\n      \"properties\": {\n        \"dtype\": \"object\",\n        \"num_unique_values\": 5,\n        \"samples\": [\n          \"Tue May 20 00:00:00 EDT 2008\"\n        ],\n        \"semantic_type\": \"\",\n        \"description\": \"\"\n      }\n    },\n    {\n      \"column\": \"price\",\n      \"properties\": {\n        \"dtype\": \"number\",\n        \"std\": 138365,\n        \"min\": 1551,\n        \"max\": 884790,\n        \"num_unique_values\": 605,\n        \"samples\": [\n          668365\n        ],\n        \"semantic_type\": \"\",\n        \"description\": \"\"\n      }\n    },\n    {\n      \"column\": \"latitude\",\n      \"properties\": {\n        \"dtype\": \"number\",\n        \"std\": 0.14543287915297298,\n        \"min\": 38.241514,\n        \"max\": 39.020808,\n        \"num_unique_values\": 969,\n        \"samples\": [\n          38.886525\n        ],\n        \"semantic_type\": \"\",\n        \"description\": \"\"\n      }\n    },\n    {\n      \"column\": \"longitude\",\n      \"properties\": {\n        \"dtype\": \"number\",\n        \"std\": 0.13827789978738897,\n        \"min\": -121.551704,\n        \"max\": -120.597599,\n        \"num_unique_values\": 967,\n        \"samples\": [\n          -121.372876\n        ],\n        \"semantic_type\": \"\",\n        \"description\": \"\"\n      }\n    }\n  ]\n}"
            }
          },
          "metadata": {},
          "execution_count": 156
        }
      ]
    },
    {
      "cell_type": "markdown",
      "source": [
        "Number of the columns in the data frame"
      ],
      "metadata": {
        "id": "mIilsl0gOlgi"
      }
    },
    {
      "cell_type": "code",
      "source": [
        "df.shape[1]"
      ],
      "metadata": {
        "colab": {
          "base_uri": "https://localhost:8080/"
        },
        "id": "IN2bzGyO6MU0",
        "outputId": "854ac04d-c541-43c4-a0bc-9921d64fea98"
      },
      "execution_count": 157,
      "outputs": [
        {
          "output_type": "execute_result",
          "data": {
            "text/plain": [
              "12"
            ]
          },
          "metadata": {},
          "execution_count": 157
        }
      ]
    },
    {
      "cell_type": "markdown",
      "source": [
        "Mean of the house prices"
      ],
      "metadata": {
        "id": "v1ODUDOqOpDy"
      }
    },
    {
      "cell_type": "code",
      "source": [
        "print(f\"Mean house price: {df['price'].mean()}\")"
      ],
      "metadata": {
        "colab": {
          "base_uri": "https://localhost:8080/"
        },
        "id": "-7X-4r-rHATA",
        "outputId": "249cd75b-cace-44cd-ed1c-8449ba0e20d4"
      },
      "execution_count": 158,
      "outputs": [
        {
          "output_type": "stream",
          "name": "stdout",
          "text": [
            "Mean house price: 234144.26395939087\n"
          ]
        }
      ]
    },
    {
      "cell_type": "markdown",
      "source": [
        "Median of the house prices"
      ],
      "metadata": {
        "id": "n3HCh_coPH05"
      }
    },
    {
      "cell_type": "code",
      "source": [
        "print(f\"Median house price: {df['price'].median()}\")"
      ],
      "metadata": {
        "colab": {
          "base_uri": "https://localhost:8080/"
        },
        "id": "-WVoWfaIHmAP",
        "outputId": "53fc5bf1-04f2-4edb-d50b-fb24eb8a5d1b"
      },
      "execution_count": 159,
      "outputs": [
        {
          "output_type": "stream",
          "name": "stdout",
          "text": [
            "Median house price: 213750.0\n"
          ]
        }
      ]
    },
    {
      "cell_type": "markdown",
      "source": [
        "Different types of property in the dataset"
      ],
      "metadata": {
        "id": "9AUQwfMDPSUk"
      }
    },
    {
      "cell_type": "code",
      "source": [
        "# Find the different types of property in the dataset\n",
        "property_types = df['type'].unique()\n",
        "print(f\"Different types of properties: {property_types}\")"
      ],
      "metadata": {
        "colab": {
          "base_uri": "https://localhost:8080/"
        },
        "id": "vhr_Ywn-Hs55",
        "outputId": "81e323f2-5e25-49a3-be7a-43e3a75c5410"
      },
      "execution_count": 160,
      "outputs": [
        {
          "output_type": "stream",
          "name": "stdout",
          "text": [
            "Different types of properties: ['Residential' 'Condo' 'Multi-Family' 'Unkown']\n"
          ]
        }
      ]
    },
    {
      "cell_type": "markdown",
      "source": [
        "Maximum price of a \"condo\" in the dataset"
      ],
      "metadata": {
        "id": "4POOtZE3PRTZ"
      }
    },
    {
      "cell_type": "code",
      "source": [
        "# Find the maximum price of a \"condo\" in the dataset\n",
        "print(f\"Maximum condo price: {df[df['type'] == 'Condo']['price'].max()}\")"
      ],
      "metadata": {
        "colab": {
          "base_uri": "https://localhost:8080/"
        },
        "id": "0IDhJ4GUN4aE",
        "outputId": "f236b874-0560-4723-e4b3-036b733284c5"
      },
      "execution_count": 161,
      "outputs": [
        {
          "output_type": "stream",
          "name": "stdout",
          "text": [
            "Maximum condo price: 360000\n"
          ]
        }
      ]
    },
    {
      "cell_type": "markdown",
      "source": [
        "Mean of each type of property in the dataset"
      ],
      "metadata": {
        "id": "S37mPB0wPikQ"
      }
    },
    {
      "cell_type": "code",
      "source": [
        "# Find the mean price of each type of property in the dataset\n",
        "print(f\"Mean price of each property type: {df.groupby('type')['price'].mean()}\")"
      ],
      "metadata": {
        "colab": {
          "base_uri": "https://localhost:8080/"
        },
        "id": "aT9uwxBROJl5",
        "outputId": "2c3d5798-fe5c-4f04-c598-94b7f3301fbe"
      },
      "execution_count": 162,
      "outputs": [
        {
          "output_type": "stream",
          "name": "stdout",
          "text": [
            "Mean price of each property type: type\n",
            "Condo           150082.185185\n",
            "Multi-Family    224534.692308\n",
            "Residential     239186.162486\n",
            "Unkown          275000.000000\n",
            "Name: price, dtype: float64\n"
          ]
        }
      ]
    },
    {
      "cell_type": "markdown",
      "source": [
        "Find the count of different property types in dataset"
      ],
      "metadata": {
        "id": "-Nau-CH7PqSv"
      }
    },
    {
      "cell_type": "code",
      "source": [
        "print(f\"Count of different property types: {df['type'].value_counts()}\")"
      ],
      "metadata": {
        "colab": {
          "base_uri": "https://localhost:8080/"
        },
        "id": "rbHLns2eIB9Y",
        "outputId": "0c190696-6eaf-44da-c8f3-d1afa8c3470e"
      },
      "execution_count": 163,
      "outputs": [
        {
          "output_type": "stream",
          "name": "stdout",
          "text": [
            "Count of different property types: type\n",
            "Residential     917\n",
            "Condo            54\n",
            "Multi-Family     13\n",
            "Unkown            1\n",
            "Name: count, dtype: int64\n"
          ]
        }
      ]
    }
  ]
}